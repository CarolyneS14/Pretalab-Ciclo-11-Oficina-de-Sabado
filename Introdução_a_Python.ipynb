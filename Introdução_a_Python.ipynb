{
  "nbformat": 4,
  "nbformat_minor": 0,
  "metadata": {
    "colab": {
      "provenance": [],
      "toc_visible": true,
      "include_colab_link": true
    },
    "kernelspec": {
      "name": "python3",
      "display_name": "Python 3"
    },
    "language_info": {
      "name": "python"
    }
  },
  "cells": [
    {
      "cell_type": "markdown",
      "metadata": {
        "id": "view-in-github",
        "colab_type": "text"
      },
      "source": [
        "<a href=\"https://colab.research.google.com/github/CarolyneS14/Pretalab-Ciclo-11-Oficina-de-Sabado/blob/main/Introdu%C3%A7%C3%A3o_a_Python.ipynb\" target=\"_parent\"><img src=\"https://colab.research.google.com/assets/colab-badge.svg\" alt=\"Open In Colab\"/></a>"
      ]
    },
    {
      "cell_type": "markdown",
      "source": [
        "# Introdução a Python\n",
        "\n",
        "Python é uma das linguagens de programação mais populares do mundo nos últimos anos. Chegando a estar no primeiro lugar 1 lugar em muitos rankings pelo mundo.\n",
        "\n",
        "É uma linguagem extremamente versátil, funcionando tanto para o aprendizado de máquinas, construção de sites até para automação de tarefas e testes de softwares.\n",
        "\n",
        "Além disso, também é muito próxima da linguagem humana, facilitando o aprendizado e manutenção."
      ],
      "metadata": {
        "id": "sfxpH7Abzuwk"
      }
    },
    {
      "cell_type": "markdown",
      "source": [
        "## Mas, o que é Python?\n",
        "Python é uma linguagem de programação de uso geral. Como falado anteriormente, essa linguagem funciona para criar uma grande variedade de aplicações diferentes, como desenvolvimento de software, análise de dados, inteligência artificial, automação de tarefas, criação de aplicativos web e daí por diante."
      ],
      "metadata": {
        "id": "Lff72gS9vaOY"
      }
    },
    {
      "cell_type": "markdown",
      "source": [
        "## Algumas caracteristicas\n",
        "\n",
        "### Linguagem interpretada\n",
        "Significa que ela não precisa passar pelo processo de compilação. O processo de interpretação é executado dentro de máquinas virtuais, nas quais o código passa por uma camada intermediária que irá traduzir os comandos de programa para código binário.\n",
        "\n",
        "### Sintaxe simples\n",
        "Se trata de uma linguagem de alto nível. Sua sintaxe é simples, fácil de aprender e muito próxima da linguagem falada por nós.\n",
        "\n",
        "\n",
        "### Áreas que mais utilizam Python\n",
        "\n",
        "\n",
        "1.   Análise de Dados;\n",
        "2.   Aprendizado de Máquina;\n",
        "3.   Desenvolvimento Web;\n",
        "4.   DevOps.;\n",
        "\n"
      ],
      "metadata": {
        "id": "mOEL1KRIv2u2"
      }
    },
    {
      "cell_type": "markdown",
      "source": [
        "# Hora de Praticar\n"
      ],
      "metadata": {
        "id": "zvy1r_Vv0MHt"
      }
    },
    {
      "cell_type": "markdown",
      "source": [
        "### Python como uma calculadora"
      ],
      "metadata": {
        "id": "4rrPjHUf1Yt1"
      }
    },
    {
      "cell_type": "code",
      "source": [
        "2 + 3"
      ],
      "metadata": {
        "id": "M8-nowfBXCN7",
        "outputId": "58f023b4-1abc-4858-a9ad-ed795559e39e",
        "colab": {
          "base_uri": "https://localhost:8080/"
        }
      },
      "execution_count": 1,
      "outputs": [
        {
          "output_type": "execute_result",
          "data": {
            "text/plain": [
              "5"
            ]
          },
          "metadata": {},
          "execution_count": 1
        }
      ]
    },
    {
      "cell_type": "code",
      "source": [
        "5 * 4"
      ],
      "metadata": {
        "id": "MVxcMIPQ1k1l",
        "outputId": "3fea5fe8-98d2-4b19-a6c4-4ef43e5a6f8b",
        "colab": {
          "base_uri": "https://localhost:8080/"
        }
      },
      "execution_count": 2,
      "outputs": [
        {
          "output_type": "execute_result",
          "data": {
            "text/plain": [
              "20"
            ]
          },
          "metadata": {},
          "execution_count": 2
        }
      ]
    },
    {
      "cell_type": "code",
      "source": [
        "(12450983 * 9902 + 32) / 57"
      ],
      "metadata": {
        "id": "l-oDw2p31pZz",
        "outputId": "abbe4374-9a2c-43b8-cb84-accb2c083921",
        "colab": {
          "base_uri": "https://localhost:8080/"
        }
      },
      "execution_count": 3,
      "outputs": [
        {
          "output_type": "execute_result",
          "data": {
            "text/plain": [
              "2162976029.7894735"
            ]
          },
          "metadata": {},
          "execution_count": 3
        }
      ]
    },
    {
      "cell_type": "markdown",
      "source": [
        "### Strings"
      ],
      "metadata": {
        "id": "jdjgzaSV2T_m"
      }
    },
    {
      "cell_type": "code",
      "source": [
        "\"Amanda\""
      ],
      "metadata": {
        "id": "xFmW_BV5y7-n",
        "outputId": "8d7fd4e5-dd74-402c-84fc-106ef220913d",
        "colab": {
          "base_uri": "https://localhost:8080/",
          "height": 35
        }
      },
      "execution_count": 4,
      "outputs": [
        {
          "output_type": "execute_result",
          "data": {
            "text/plain": [
              "'Amanda'"
            ],
            "application/vnd.google.colaboratory.intrinsic+json": {
              "type": "string"
            }
          },
          "metadata": {},
          "execution_count": 4
        }
      ]
    },
    {
      "cell_type": "code",
      "source": [
        "\"Meu nome é\""
      ],
      "metadata": {
        "id": "99plPeFi2j9a",
        "outputId": "49827630-8800-449b-a10d-74f0670382ca",
        "colab": {
          "base_uri": "https://localhost:8080/",
          "height": 35
        }
      },
      "execution_count": 5,
      "outputs": [
        {
          "output_type": "execute_result",
          "data": {
            "text/plain": [
              "'Meu nome é'"
            ],
            "application/vnd.google.colaboratory.intrinsic+json": {
              "type": "string"
            }
          },
          "metadata": {},
          "execution_count": 5
        }
      ]
    },
    {
      "cell_type": "markdown",
      "source": [
        "### Operadores"
      ],
      "metadata": {
        "id": "MR0lZz_e2gbU"
      }
    },
    {
      "cell_type": "code",
      "source": [
        "\"Oi\" + \"Amanda\""
      ],
      "metadata": {
        "id": "TCq2EKJIy821",
        "outputId": "26c0918d-4782-44cb-d959-e531d9c87a50",
        "colab": {
          "base_uri": "https://localhost:8080/",
          "height": 35
        }
      },
      "execution_count": 6,
      "outputs": [
        {
          "output_type": "execute_result",
          "data": {
            "text/plain": [
              "'OiAmanda'"
            ],
            "application/vnd.google.colaboratory.intrinsic+json": {
              "type": "string"
            }
          },
          "metadata": {},
          "execution_count": 6
        }
      ]
    },
    {
      "cell_type": "code",
      "source": [
        "\"oi\"* 3"
      ],
      "metadata": {
        "id": "IFdlf51lB1t-",
        "outputId": "66241743-06ba-4c49-804b-0f2f95e0f92b",
        "colab": {
          "base_uri": "https://localhost:8080/",
          "height": 35
        }
      },
      "execution_count": 7,
      "outputs": [
        {
          "output_type": "execute_result",
          "data": {
            "text/plain": [
              "'oioioi'"
            ],
            "application/vnd.google.colaboratory.intrinsic+json": {
              "type": "string"
            }
          },
          "metadata": {},
          "execution_count": 7
        }
      ]
    },
    {
      "cell_type": "markdown",
      "source": [
        "### Funções"
      ],
      "metadata": {
        "id": "VkD-E7-E3AsR"
      }
    },
    {
      "cell_type": "code",
      "source": [
        "\"amanda\".upper()"
      ],
      "metadata": {
        "id": "n3yTzDb7BQ2Y",
        "outputId": "f6e00f57-01fc-4245-c82a-d776c118ab02",
        "colab": {
          "base_uri": "https://localhost:8080/",
          "height": 35
        }
      },
      "execution_count": 8,
      "outputs": [
        {
          "output_type": "execute_result",
          "data": {
            "text/plain": [
              "'AMANDA'"
            ],
            "application/vnd.google.colaboratory.intrinsic+json": {
              "type": "string"
            }
          },
          "metadata": {},
          "execution_count": 8
        }
      ]
    },
    {
      "cell_type": "code",
      "source": [
        "len('Amanda')"
      ],
      "metadata": {
        "id": "J6KuphJTBdoJ",
        "outputId": "adee01d6-8380-4ed9-daab-0887d7c56916",
        "colab": {
          "base_uri": "https://localhost:8080/"
        }
      },
      "execution_count": 9,
      "outputs": [
        {
          "output_type": "execute_result",
          "data": {
            "text/plain": [
              "6"
            ]
          },
          "metadata": {},
          "execution_count": 9
        }
      ]
    },
    {
      "cell_type": "markdown",
      "source": [
        "### Erros"
      ],
      "metadata": {
        "id": "f6-zvaXf3Rn7"
      }
    },
    {
      "cell_type": "code",
      "source": [
        "len(304023)\n"
      ],
      "metadata": {
        "id": "oYReV9FJGwc1",
        "outputId": "b090c660-ef38-4c82-f3aa-7745a5ba848a",
        "colab": {
          "base_uri": "https://localhost:8080/",
          "height": 141
        }
      },
      "execution_count": 10,
      "outputs": [
        {
          "output_type": "error",
          "ename": "TypeError",
          "evalue": "object of type 'int' has no len()",
          "traceback": [
            "\u001b[0;31m---------------------------------------------------------------------------\u001b[0m",
            "\u001b[0;31mTypeError\u001b[0m                                 Traceback (most recent call last)",
            "\u001b[0;32m<ipython-input-10-80853d3793b8>\u001b[0m in \u001b[0;36m<cell line: 1>\u001b[0;34m()\u001b[0m\n\u001b[0;32m----> 1\u001b[0;31m \u001b[0mlen\u001b[0m\u001b[0;34m(\u001b[0m\u001b[0;36m304023\u001b[0m\u001b[0;34m)\u001b[0m\u001b[0;34m\u001b[0m\u001b[0;34m\u001b[0m\u001b[0m\n\u001b[0m",
            "\u001b[0;31mTypeError\u001b[0m: object of type 'int' has no len()"
          ]
        }
      ]
    },
    {
      "cell_type": "markdown",
      "source": [
        "### Gemini IA\n"
      ],
      "metadata": {
        "id": "vcolYA5s32Se"
      }
    },
    {
      "cell_type": "markdown",
      "source": [
        "# Avançando um pouco mais\n"
      ],
      "metadata": {
        "id": "RpGMFFca4Q7E"
      }
    },
    {
      "cell_type": "markdown",
      "source": [
        "### Variáveis\n"
      ],
      "metadata": {
        "id": "ISGwNDHh4m0X"
      }
    },
    {
      "cell_type": "code",
      "source": [
        "nome = \"Ola\"\n",
        "nome"
      ],
      "metadata": {
        "id": "OYS_ibsEJN9m"
      },
      "execution_count": null,
      "outputs": []
    },
    {
      "cell_type": "code",
      "source": [
        "a = 4\n",
        "b = 6\n",
        "c = a + b\n",
        "c"
      ],
      "metadata": {
        "id": "4dkyguQDJZJ_"
      },
      "execution_count": null,
      "outputs": []
    },
    {
      "cell_type": "code",
      "source": [
        "cidade= \"Tokyo\"\n",
        "cidad"
      ],
      "metadata": {
        "id": "tqOZsj_fJf7H"
      },
      "execution_count": null,
      "outputs": []
    },
    {
      "cell_type": "markdown",
      "source": [
        "### Listas\n"
      ],
      "metadata": {
        "id": "ResTH90F5KX4"
      }
    },
    {
      "cell_type": "code",
      "source": [
        "loteria = [3, 42, 12, 19, 30, 59]\n",
        "loteria\n",
        "len(loteria)"
      ],
      "metadata": {
        "id": "WAYllfesKFb3",
        "outputId": "f1cd7dea-46b0-4eb4-d1e3-9654dfec5f7b",
        "colab": {
          "base_uri": "https://localhost:8080/"
        }
      },
      "execution_count": 60,
      "outputs": [
        {
          "output_type": "execute_result",
          "data": {
            "text/plain": [
              "6"
            ]
          },
          "metadata": {},
          "execution_count": 60
        }
      ]
    },
    {
      "cell_type": "code",
      "source": [
        "lista_de_compras = ['arroz', 'feijão', 'ovo']\n",
        "print(lista_de_compras)\n",
        "lista_de_compras.append('leite')\n",
        "lista_de_compras"
      ],
      "metadata": {
        "id": "_BOhw3ZB5nFc",
        "outputId": "27533fb5-451c-40d4-b827-7f2445ee4639",
        "colab": {
          "base_uri": "https://localhost:8080/"
        }
      },
      "execution_count": 61,
      "outputs": [
        {
          "output_type": "stream",
          "name": "stdout",
          "text": [
            "['arroz', 'feijão', 'ovo']\n"
          ]
        },
        {
          "output_type": "execute_result",
          "data": {
            "text/plain": [
              "['arroz', 'feijão', 'ovo', 'leite']"
            ]
          },
          "metadata": {},
          "execution_count": 61
        }
      ]
    },
    {
      "cell_type": "code",
      "source": [
        "livros = ['Tudo sobre o amor', 'Olhares negros: Raça e representação', 'Por que amamos']\n",
        "livros[2]"
      ],
      "metadata": {
        "id": "xnKnHmxh91tE",
        "outputId": "8d1a31a9-e99f-4fd8-97cb-33d09f609be9",
        "colab": {
          "base_uri": "https://localhost:8080/",
          "height": 35
        }
      },
      "execution_count": 62,
      "outputs": [
        {
          "output_type": "execute_result",
          "data": {
            "text/plain": [
              "'Por que amamos'"
            ],
            "application/vnd.google.colaboratory.intrinsic+json": {
              "type": "string"
            }
          },
          "metadata": {},
          "execution_count": 62
        }
      ]
    },
    {
      "cell_type": "markdown",
      "source": [
        "### Print()\n"
      ],
      "metadata": {
        "id": "-U3ApYqQ5YkO"
      }
    },
    {
      "cell_type": "code",
      "source": [
        "print(loteria)\n",
        "loteria.sort()\n",
        "print(loteria)"
      ],
      "metadata": {
        "id": "3yAGJ00rKiSH",
        "outputId": "6c41bf6b-9fef-4373-c4ea-f7d0d531fec6",
        "colab": {
          "base_uri": "https://localhost:8080/"
        }
      },
      "execution_count": 63,
      "outputs": [
        {
          "output_type": "stream",
          "name": "stdout",
          "text": [
            "[3, 42, 12, 19, 30, 59]\n",
            "[3, 12, 19, 30, 42, 59]\n"
          ]
        }
      ]
    },
    {
      "cell_type": "markdown",
      "source": [
        "### f-Strings\n"
      ],
      "metadata": {
        "id": "Fsk8QTuG3b-B"
      }
    },
    {
      "cell_type": "markdown",
      "source": [
        "### Perguntas para usuário digitar\n"
      ],
      "metadata": {
        "id": "P8eHelYyFcSk"
      }
    },
    {
      "cell_type": "code",
      "source": [
        "nome = input('Qual é o seu nome? ')\n",
        "print(f'Olá {nome}, muito prazer.')"
      ],
      "metadata": {
        "id": "0ILcZDG0FgJO",
        "outputId": "42bd5d46-767c-40ed-d3dc-2d3d97beef2b",
        "colab": {
          "base_uri": "https://localhost:8080/"
        }
      },
      "execution_count": 14,
      "outputs": [
        {
          "output_type": "stream",
          "name": "stdout",
          "text": [
            "Qual é o seu nome? Carol\n",
            "Olá Carol, muito prazer.\n"
          ]
        }
      ]
    },
    {
      "cell_type": "code",
      "source": [],
      "metadata": {
        "id": "CI6pow0A3j7N"
      },
      "execution_count": 14,
      "outputs": []
    },
    {
      "cell_type": "markdown",
      "source": [
        "### Dicionários\n"
      ],
      "metadata": {
        "id": "vIAi2HRo7Dja"
      }
    },
    {
      "cell_type": "code",
      "source": [
        "participante = {'nome': 'Rebeca', 'pais': 'Brasil', 'numeros_favoritos': [7, 42, 92]}\n",
        "print(participante)"
      ],
      "metadata": {
        "id": "Is1wMwPTLQYe",
        "outputId": "9db0ddf3-64c0-40e5-cc8f-f9621b4c0269",
        "colab": {
          "base_uri": "https://localhost:8080/"
        }
      },
      "execution_count": 15,
      "outputs": [
        {
          "output_type": "stream",
          "name": "stdout",
          "text": [
            "{'nome': 'Rebeca', 'pais': 'Brasil', 'numeros_favoritos': [7, 42, 92]}\n"
          ]
        }
      ]
    },
    {
      "cell_type": "code",
      "source": [
        "print(participante['nome'])\n"
      ],
      "metadata": {
        "id": "lQpbS6k2LRTd",
        "outputId": "f76096fb-f8a6-4625-99ef-78ca2af3456d",
        "colab": {
          "base_uri": "https://localhost:8080/"
        }
      },
      "execution_count": 16,
      "outputs": [
        {
          "output_type": "stream",
          "name": "stdout",
          "text": [
            "Rebeca\n"
          ]
        }
      ]
    },
    {
      "cell_type": "code",
      "source": [
        "print(len(participante['numeros_favoritos']))"
      ],
      "metadata": {
        "id": "RBZpVhmD77Q9",
        "outputId": "ef849e03-1cf5-4c6e-8a5c-ca4717e9e4b0",
        "colab": {
          "base_uri": "https://localhost:8080/"
        }
      },
      "execution_count": 17,
      "outputs": [
        {
          "output_type": "stream",
          "name": "stdout",
          "text": [
            "3\n"
          ]
        }
      ]
    },
    {
      "cell_type": "markdown",
      "source": [
        "### Comparações\n"
      ],
      "metadata": {
        "id": "rj01qnul8FWb"
      }
    },
    {
      "cell_type": "code",
      "source": [
        "5 > 4"
      ],
      "metadata": {
        "id": "TF9FPwNkLvf4",
        "outputId": "e9fce424-0825-49ef-8b40-a007dc4b081c",
        "colab": {
          "base_uri": "https://localhost:8080/"
        }
      },
      "execution_count": 18,
      "outputs": [
        {
          "output_type": "execute_result",
          "data": {
            "text/plain": [
              "True"
            ]
          },
          "metadata": {},
          "execution_count": 18
        }
      ]
    },
    {
      "cell_type": "code",
      "source": [
        "2 < 1"
      ],
      "metadata": {
        "id": "Lt-dRvql8SFU",
        "outputId": "257a0b1e-029b-4a05-a625-3bcd796ff89f",
        "colab": {
          "base_uri": "https://localhost:8080/"
        }
      },
      "execution_count": 19,
      "outputs": [
        {
          "output_type": "execute_result",
          "data": {
            "text/plain": [
              "False"
            ]
          },
          "metadata": {},
          "execution_count": 19
        }
      ]
    },
    {
      "cell_type": "code",
      "source": [
        "10 < 7 * 3"
      ],
      "metadata": {
        "id": "GWjpFBp38WL3",
        "outputId": "2811365a-04a5-41d2-9cd1-571c592fea3f",
        "colab": {
          "base_uri": "https://localhost:8080/"
        }
      },
      "execution_count": 20,
      "outputs": [
        {
          "output_type": "execute_result",
          "data": {
            "text/plain": [
              "True"
            ]
          },
          "metadata": {},
          "execution_count": 20
        }
      ]
    },
    {
      "cell_type": "markdown",
      "source": [
        "#### Igual ou Diferente\n"
      ],
      "metadata": {
        "id": "9oeihviO88Qn"
      }
    },
    {
      "cell_type": "code",
      "source": [
        "3 == 3"
      ],
      "metadata": {
        "id": "wvWOaJr68PNd",
        "outputId": "813d97e9-5dff-4a57-fef0-fbf7c2677253",
        "colab": {
          "base_uri": "https://localhost:8080/"
        }
      },
      "execution_count": 21,
      "outputs": [
        {
          "output_type": "execute_result",
          "data": {
            "text/plain": [
              "True"
            ]
          },
          "metadata": {},
          "execution_count": 21
        }
      ]
    },
    {
      "cell_type": "code",
      "source": [
        "3 != 3"
      ],
      "metadata": {
        "id": "96MYTxAt8dYe",
        "outputId": "77eab138-0e85-4ca1-ca35-1bb5d97600b5",
        "colab": {
          "base_uri": "https://localhost:8080/"
        }
      },
      "execution_count": 22,
      "outputs": [
        {
          "output_type": "execute_result",
          "data": {
            "text/plain": [
              "False"
            ]
          },
          "metadata": {},
          "execution_count": 22
        }
      ]
    },
    {
      "cell_type": "markdown",
      "source": [
        "#### Maior ou igual (>=) e Menor ou igual (<=)\n"
      ],
      "metadata": {
        "id": "NFGHhg5I9o4W"
      }
    },
    {
      "cell_type": "code",
      "source": [
        "3 >= 3"
      ],
      "metadata": {
        "id": "1PXurJJk8xzh",
        "outputId": "5871a611-d764-484d-96a0-9a4231a19e6a",
        "colab": {
          "base_uri": "https://localhost:8080/"
        }
      },
      "execution_count": 23,
      "outputs": [
        {
          "output_type": "execute_result",
          "data": {
            "text/plain": [
              "True"
            ]
          },
          "metadata": {},
          "execution_count": 23
        }
      ]
    },
    {
      "cell_type": "code",
      "source": [
        "9 <=4"
      ],
      "metadata": {
        "id": "6o5rg8qq8sK1",
        "outputId": "ba87a859-49c5-49d4-ef8f-92cd6f7e888d",
        "colab": {
          "base_uri": "https://localhost:8080/"
        }
      },
      "execution_count": 24,
      "outputs": [
        {
          "output_type": "execute_result",
          "data": {
            "text/plain": [
              "False"
            ]
          },
          "metadata": {},
          "execution_count": 24
        }
      ]
    },
    {
      "cell_type": "code",
      "source": [
        "5 >= 3"
      ],
      "metadata": {
        "id": "mm0Ou4VY8ngJ",
        "outputId": "ec0f2c3c-e9f2-405b-8743-58fd370d1279",
        "colab": {
          "base_uri": "https://localhost:8080/"
        }
      },
      "execution_count": 25,
      "outputs": [
        {
          "output_type": "execute_result",
          "data": {
            "text/plain": [
              "True"
            ]
          },
          "metadata": {},
          "execution_count": 25
        }
      ]
    },
    {
      "cell_type": "markdown",
      "source": [
        "#### and e or\n"
      ],
      "metadata": {
        "id": "RlJzy5MH9Y7C"
      }
    },
    {
      "cell_type": "code",
      "source": [
        "6 > 5 and 5 > 4"
      ],
      "metadata": {
        "id": "tW5b-9qz95zE",
        "outputId": "e8785836-25e3-4b42-f18e-ff7ac5bfab16",
        "colab": {
          "base_uri": "https://localhost:8080/"
        }
      },
      "execution_count": 26,
      "outputs": [
        {
          "output_type": "execute_result",
          "data": {
            "text/plain": [
              "True"
            ]
          },
          "metadata": {},
          "execution_count": 26
        }
      ]
    },
    {
      "cell_type": "code",
      "source": [
        "6 > 5 or 5 > 4"
      ],
      "metadata": {
        "id": "gaOQgniv-MOF",
        "outputId": "01b61aab-4b98-47a7-fc02-c3947aaa110e",
        "colab": {
          "base_uri": "https://localhost:8080/"
        }
      },
      "execution_count": 27,
      "outputs": [
        {
          "output_type": "execute_result",
          "data": {
            "text/plain": [
              "True"
            ]
          },
          "metadata": {},
          "execution_count": 27
        }
      ]
    },
    {
      "cell_type": "code",
      "source": [
        "'maça' > 3"
      ],
      "metadata": {
        "id": "xRP7ZaNx-q_Y",
        "outputId": "a045fce9-e6ac-4d22-fa05-df46024959f8",
        "colab": {
          "base_uri": "https://localhost:8080/",
          "height": 141
        }
      },
      "execution_count": 28,
      "outputs": [
        {
          "output_type": "error",
          "ename": "TypeError",
          "evalue": "'>' not supported between instances of 'str' and 'int'",
          "traceback": [
            "\u001b[0;31m---------------------------------------------------------------------------\u001b[0m",
            "\u001b[0;31mTypeError\u001b[0m                                 Traceback (most recent call last)",
            "\u001b[0;32m<ipython-input-28-b1c4d2aa26ec>\u001b[0m in \u001b[0;36m<cell line: 1>\u001b[0;34m()\u001b[0m\n\u001b[0;32m----> 1\u001b[0;31m \u001b[0;34m'maça'\u001b[0m \u001b[0;34m>\u001b[0m \u001b[0;36m3\u001b[0m\u001b[0;34m\u001b[0m\u001b[0;34m\u001b[0m\u001b[0m\n\u001b[0m",
            "\u001b[0;31mTypeError\u001b[0m: '>' not supported between instances of 'str' and 'int'"
          ]
        }
      ]
    },
    {
      "cell_type": "markdown",
      "source": [
        "### Booleanos\n"
      ],
      "metadata": {
        "id": "6zt5iLy0_Peh"
      }
    },
    {
      "cell_type": "code",
      "source": [
        "a = True\n",
        "a\n"
      ],
      "metadata": {
        "id": "mnnNNuvK_UAH",
        "outputId": "ba5690c5-480f-46db-b30b-d05aadee9e51",
        "colab": {
          "base_uri": "https://localhost:8080/"
        }
      },
      "execution_count": 29,
      "outputs": [
        {
          "output_type": "execute_result",
          "data": {
            "text/plain": [
              "True"
            ]
          },
          "metadata": {},
          "execution_count": 29
        }
      ]
    },
    {
      "cell_type": "code",
      "source": [
        "a = 3 > 4\n",
        "a"
      ],
      "metadata": {
        "id": "D7C-85ad_Ywy",
        "outputId": "e1ab8bc2-2d9f-4808-934a-4a5c1edbc2e4",
        "colab": {
          "base_uri": "https://localhost:8080/"
        }
      },
      "execution_count": 30,
      "outputs": [
        {
          "output_type": "execute_result",
          "data": {
            "text/plain": [
              "False"
            ]
          },
          "metadata": {},
          "execution_count": 30
        }
      ]
    },
    {
      "cell_type": "code",
      "source": [
        "True and True"
      ],
      "metadata": {
        "id": "NpRzjzV__gJe",
        "outputId": "0a101e30-f874-46d6-c9ef-c9327cbff0da",
        "colab": {
          "base_uri": "https://localhost:8080/"
        }
      },
      "execution_count": 31,
      "outputs": [
        {
          "output_type": "execute_result",
          "data": {
            "text/plain": [
              "True"
            ]
          },
          "metadata": {},
          "execution_count": 31
        }
      ]
    },
    {
      "cell_type": "code",
      "source": [
        "True and False"
      ],
      "metadata": {
        "id": "I-00vqHu_qDC",
        "outputId": "8ce0a4fc-98fb-4382-ab7f-ce48ee7706ee",
        "colab": {
          "base_uri": "https://localhost:8080/"
        }
      },
      "execution_count": 32,
      "outputs": [
        {
          "output_type": "execute_result",
          "data": {
            "text/plain": [
              "False"
            ]
          },
          "metadata": {},
          "execution_count": 32
        }
      ]
    },
    {
      "cell_type": "code",
      "source": [
        "True and true"
      ],
      "metadata": {
        "id": "Z-Cmxlj5_kdt",
        "outputId": "121ac4eb-0142-4d11-b0ac-3b438db1a7e2",
        "colab": {
          "base_uri": "https://localhost:8080/",
          "height": 141
        }
      },
      "execution_count": 58,
      "outputs": [
        {
          "output_type": "error",
          "ename": "NameError",
          "evalue": "name 'true' is not defined",
          "traceback": [
            "\u001b[0;31m---------------------------------------------------------------------------\u001b[0m",
            "\u001b[0;31mNameError\u001b[0m                                 Traceback (most recent call last)",
            "\u001b[0;32m<ipython-input-58-3eba405644ff>\u001b[0m in \u001b[0;36m<cell line: 1>\u001b[0;34m()\u001b[0m\n\u001b[0;32m----> 1\u001b[0;31m \u001b[0;32mTrue\u001b[0m \u001b[0;32mand\u001b[0m \u001b[0mtrue\u001b[0m\u001b[0;34m\u001b[0m\u001b[0;34m\u001b[0m\u001b[0m\n\u001b[0m",
            "\u001b[0;31mNameError\u001b[0m: name 'true' is not defined"
          ]
        }
      ]
    },
    {
      "cell_type": "code",
      "source": [
        "True and false"
      ],
      "metadata": {
        "id": "cJi5FFyF_tXO",
        "outputId": "bfa06866-04e8-42f8-db10-dcd628f85a6c",
        "colab": {
          "base_uri": "https://localhost:8080/",
          "height": 141
        }
      },
      "execution_count": 59,
      "outputs": [
        {
          "output_type": "error",
          "ename": "NameError",
          "evalue": "name 'false' is not defined",
          "traceback": [
            "\u001b[0;31m---------------------------------------------------------------------------\u001b[0m",
            "\u001b[0;31mNameError\u001b[0m                                 Traceback (most recent call last)",
            "\u001b[0;32m<ipython-input-59-d32282324d1e>\u001b[0m in \u001b[0;36m<cell line: 1>\u001b[0;34m()\u001b[0m\n\u001b[0;32m----> 1\u001b[0;31m \u001b[0;32mTrue\u001b[0m \u001b[0;32mand\u001b[0m \u001b[0mfalse\u001b[0m\u001b[0;34m\u001b[0m\u001b[0;34m\u001b[0m\u001b[0m\n\u001b[0m",
            "\u001b[0;31mNameError\u001b[0m: name 'false' is not defined"
          ]
        }
      ]
    },
    {
      "cell_type": "code",
      "source": [
        "True and 3 < 4 == 3"
      ],
      "metadata": {
        "id": "vR2Iz6pz_wpI",
        "outputId": "4d9686ad-b59e-4edb-f180-d80b74ed5708",
        "colab": {
          "base_uri": "https://localhost:8080/"
        }
      },
      "execution_count": 57,
      "outputs": [
        {
          "output_type": "execute_result",
          "data": {
            "text/plain": [
              "False"
            ]
          },
          "metadata": {},
          "execution_count": 57
        }
      ]
    },
    {
      "cell_type": "markdown",
      "source": [
        "### Condições\n"
      ],
      "metadata": {
        "id": "eC3SOzYZAcbF"
      }
    },
    {
      "cell_type": "code",
      "source": [
        "if 3 > 2:\n",
        "    print('Isso funciona!')"
      ],
      "metadata": {
        "id": "xw8AuuPHMBVl",
        "outputId": "2a258aee-2109-499d-b54e-ff5d26568d64",
        "colab": {
          "base_uri": "https://localhost:8080/"
        }
      },
      "execution_count": 52,
      "outputs": [
        {
          "output_type": "stream",
          "name": "stdout",
          "text": [
            "Isso funciona!\n"
          ]
        }
      ]
    },
    {
      "cell_type": "code",
      "source": [
        "if True:\n",
        "    print('Isso também funciona!')"
      ],
      "metadata": {
        "id": "ct6ua0_wMOHj",
        "outputId": "779d4ce4-fac5-4e19-9c9c-b4c5900cb68c",
        "colab": {
          "base_uri": "https://localhost:8080/"
        }
      },
      "execution_count": 54,
      "outputs": [
        {
          "output_type": "stream",
          "name": "stdout",
          "text": [
            "Isso também funciona!\n"
          ]
        }
      ]
    },
    {
      "cell_type": "code",
      "source": [
        "if False:\n",
        "    print('Isso não funciona!')"
      ],
      "metadata": {
        "id": "n2OZCpJ-AqsP"
      },
      "execution_count": 53,
      "outputs": []
    },
    {
      "cell_type": "code",
      "source": [
        "if 5 < 2:\n",
        "    print('5 é menor que 2')\n",
        "else:\n",
        "    print('5 não é menor que 2')"
      ],
      "metadata": {
        "id": "SqLDaDaSAzPn",
        "outputId": "baf81329-e3e9-4574-edda-91b6d0173b9a",
        "colab": {
          "base_uri": "https://localhost:8080/"
        }
      },
      "execution_count": 55,
      "outputs": [
        {
          "output_type": "stream",
          "name": "stdout",
          "text": [
            "5 não é menor que 2\n"
          ]
        }
      ]
    },
    {
      "cell_type": "code",
      "source": [
        "estado = 'RS'\n",
        "if estado == 'RJ':\n",
        "    print('O cliente vive em Rio de Janeiro')\n",
        "elif estado == 'SP':\n",
        "    print('O cliente vive em São Paulo')\n",
        "elif estado == 'MG':\n",
        "    print('O cliente vive em Minas Gerais')\n",
        "else:\n",
        "    print('O cliente vive em outro lugar')"
      ],
      "metadata": {
        "id": "0AO6NAR1BclJ",
        "colab": {
          "base_uri": "https://localhost:8080/"
        },
        "outputId": "2f4b6ca2-1db9-4f19-a525-9f8fed4d700b"
      },
      "execution_count": 56,
      "outputs": [
        {
          "output_type": "stream",
          "name": "stdout",
          "text": [
            "O cliente vive em outro lugar\n"
          ]
        }
      ]
    },
    {
      "cell_type": "markdown",
      "source": [
        "# Mais que avançado\n"
      ],
      "metadata": {
        "id": "5puIqp1ZCtzC"
      }
    },
    {
      "cell_type": "markdown",
      "source": [
        "### Funções"
      ],
      "metadata": {
        "id": "LMTdJf6HC-NY"
      }
    },
    {
      "cell_type": "code",
      "source": [
        "def boas_vindas():\n",
        "    print('Olá!')\n",
        "    print('Seja bem-vinda!')\n"
      ],
      "metadata": {
        "id": "RERyXZkeDDB4"
      },
      "execution_count": 48,
      "outputs": []
    },
    {
      "cell_type": "code",
      "source": [
        "boas_vindas()"
      ],
      "metadata": {
        "id": "kxhARghQDMha",
        "outputId": "20855916-061c-43b9-c1cc-47451552886c",
        "colab": {
          "base_uri": "https://localhost:8080/"
        }
      },
      "execution_count": 49,
      "outputs": [
        {
          "output_type": "stream",
          "name": "stdout",
          "text": [
            "Olá!\n",
            "Seja bem-vinda!\n"
          ]
        }
      ]
    },
    {
      "cell_type": "code",
      "source": [
        "def boas_vindas_nominal(nome):\n",
        "  if nome == 'Amanda':\n",
        "    print('Olá Amanda!')\n",
        "  elif nome == 'Mari':\n",
        "    print('Olá Mari!')\n",
        "  else:\n",
        "    print('Olá!')\n",
        "    print('Seja bem-vinda!')\n"
      ],
      "metadata": {
        "id": "ublwd8buDZxr"
      },
      "execution_count": 50,
      "outputs": []
    },
    {
      "cell_type": "code",
      "source": [
        "boas_vindas_nominal(\"Amanda\")"
      ],
      "metadata": {
        "id": "IlU96Vd4DzAc",
        "outputId": "27cdd96e-12ee-4107-f2f3-159b18952c23",
        "colab": {
          "base_uri": "https://localhost:8080/"
        }
      },
      "execution_count": 51,
      "outputs": [
        {
          "output_type": "stream",
          "name": "stdout",
          "text": [
            "Olá Amanda!\n"
          ]
        }
      ]
    },
    {
      "cell_type": "code",
      "source": [
        "def boas_vindas_pessoal(nome):\n",
        "    print('Olá ' + nome + '!')\n",
        "    print('Seja bem-vinda!')"
      ],
      "metadata": {
        "id": "549F5qzuE4cK"
      },
      "execution_count": 45,
      "outputs": []
    },
    {
      "cell_type": "code",
      "source": [
        "boas_vindas_pessoal(\"Ana\")"
      ],
      "metadata": {
        "id": "NTGkKpUCFIZ9",
        "outputId": "c583572d-90c8-48fc-d8c4-43e0ab465ff7",
        "colab": {
          "base_uri": "https://localhost:8080/"
        }
      },
      "execution_count": 46,
      "outputs": [
        {
          "output_type": "stream",
          "name": "stdout",
          "text": [
            "Olá Ana!\n",
            "Seja bem-vinda!\n"
          ]
        }
      ]
    },
    {
      "cell_type": "markdown",
      "source": [
        "### Laços de repetição\n"
      ],
      "metadata": {
        "id": "Dt7krNjhDMt9"
      }
    },
    {
      "cell_type": "code",
      "source": [
        "alunas = ['Júlia', 'Ingrid', 'Amélia', 'Fernanda', 'Luiza', 'Muriel', 'Taylor', 'Akira']"
      ],
      "metadata": {
        "id": "WXQBr2OfFy1S"
      },
      "execution_count": 40,
      "outputs": []
    },
    {
      "cell_type": "code",
      "source": [
        "for nome in alunas:\n",
        "    boas_vindas_pessoal(nome)\n",
        "    print('----')"
      ],
      "metadata": {
        "id": "ImmKoZcFGXXd",
        "outputId": "31ccac62-734c-405e-da44-1033febcd9e4",
        "colab": {
          "base_uri": "https://localhost:8080/"
        }
      },
      "execution_count": 47,
      "outputs": [
        {
          "output_type": "stream",
          "name": "stdout",
          "text": [
            "Olá Júlia!\n",
            "Seja bem-vinda!\n",
            "----\n",
            "Olá Ingrid!\n",
            "Seja bem-vinda!\n",
            "----\n",
            "Olá Amélia!\n",
            "Seja bem-vinda!\n",
            "----\n",
            "Olá Fernanda!\n",
            "Seja bem-vinda!\n",
            "----\n",
            "Olá Luiza!\n",
            "Seja bem-vinda!\n",
            "----\n",
            "Olá Muriel!\n",
            "Seja bem-vinda!\n",
            "----\n",
            "Olá Taylor!\n",
            "Seja bem-vinda!\n",
            "----\n",
            "Olá Akira!\n",
            "Seja bem-vinda!\n",
            "----\n"
          ]
        }
      ]
    },
    {
      "cell_type": "code",
      "source": [
        "for index in range(1, 6):\n",
        "    print(index)"
      ],
      "metadata": {
        "id": "YLvU2asbGny7",
        "outputId": "3e560e6c-7eb8-4672-9be9-9cee4ed8d243",
        "colab": {
          "base_uri": "https://localhost:8080/"
        }
      },
      "execution_count": 37,
      "outputs": [
        {
          "output_type": "stream",
          "name": "stdout",
          "text": [
            "1\n",
            "2\n",
            "3\n",
            "4\n",
            "5\n"
          ]
        }
      ]
    },
    {
      "cell_type": "code",
      "source": [
        "x = 0\n",
        "while x < 10:\n",
        "    print(x)\n",
        "    x += 1\n",
        "else:\n",
        "    print(\"fim while\")"
      ],
      "metadata": {
        "id": "Rw0MHsMFaMBx",
        "outputId": "d745727d-834b-4aab-9a01-1a813f478463",
        "colab": {
          "base_uri": "https://localhost:8080/"
        }
      },
      "execution_count": 36,
      "outputs": [
        {
          "output_type": "stream",
          "name": "stdout",
          "text": [
            "0\n",
            "1\n",
            "2\n",
            "3\n",
            "4\n",
            "5\n",
            "6\n",
            "7\n",
            "8\n",
            "9\n",
            "fim while\n"
          ]
        }
      ]
    },
    {
      "cell_type": "code",
      "source": [
        "x = 0\n",
        "while x < 10:\n",
        "    print(x)\n",
        "    x += 1\n",
        "    if x == 6:\n",
        "        print(\"x é igual a 6\")\n",
        "else:\n",
        "    print(\"fim while\")"
      ],
      "metadata": {
        "id": "ifaVjIQiaS5c",
        "outputId": "b74ecb8e-c6c4-4884-ea2a-e7d548722140",
        "colab": {
          "base_uri": "https://localhost:8080/"
        }
      },
      "execution_count": 35,
      "outputs": [
        {
          "output_type": "stream",
          "name": "stdout",
          "text": [
            "0\n",
            "1\n",
            "2\n",
            "3\n",
            "4\n",
            "5\n",
            "x é igual a 6\n",
            "6\n",
            "7\n",
            "8\n",
            "9\n",
            "fim while\n"
          ]
        }
      ]
    }
  ]
}