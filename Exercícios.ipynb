{
  "nbformat": 4,
  "nbformat_minor": 0,
  "metadata": {
    "colab": {
      "provenance": [],
      "toc_visible": true,
      "include_colab_link": true
    },
    "kernelspec": {
      "name": "python3",
      "display_name": "Python 3"
    },
    "language_info": {
      "name": "python"
    }
  },
  "cells": [
    {
      "cell_type": "markdown",
      "metadata": {
        "id": "view-in-github",
        "colab_type": "text"
      },
      "source": [
        "<a href=\"https://colab.research.google.com/github/CarolyneS14/Pretalab-Ciclo-11-Oficina-de-Sabado/blob/main/Exerc%C3%ADcios.ipynb\" target=\"_parent\"><img src=\"https://colab.research.google.com/assets/colab-badge.svg\" alt=\"Open In Colab\"/></a>"
      ]
    },
    {
      "cell_type": "markdown",
      "source": [
        "*Para a realização desses exercícios, peço que configurem para não aparecer sugestões da IA Gemini*"
      ],
      "metadata": {
        "id": "pAFFoVXs4XQo"
      }
    },
    {
      "cell_type": "markdown",
      "source": [
        "### A) **Utilizando variáveis, gere uma apresentação curta de sí mesma, como nesse exemplo**:\n",
        "\n"
      ],
      "metadata": {
        "id": "rZbJ_1LJ2DLf"
      }
    },
    {
      "cell_type": "code",
      "source": [
        "# Oi! Eu sou a Amanda, tenho 30 anos, moro em Salvador e meu signo é Gêmeos"
      ],
      "metadata": {
        "id": "ibKRn-P37-b2"
      },
      "execution_count": null,
      "outputs": []
    },
    {
      "cell_type": "code",
      "source": [
        "# Dica: As variáveis podem ser algo como:\n",
        "nome = 'Amanda'\n",
        "idade = 30\n",
        "cidade = 'Salvador'\n",
        "signo = 'Gêmeos'"
      ],
      "metadata": {
        "id": "n0Rjb0s_2ula"
      },
      "execution_count": null,
      "outputs": []
    },
    {
      "cell_type": "code",
      "source": [
        "# Resposta aqui:\n",
        "\n"
      ],
      "metadata": {
        "id": "kil7YL7Z3AoV"
      },
      "execution_count": null,
      "outputs": []
    },
    {
      "cell_type": "code",
      "source": [
        "# Solicitar informações ao usuário\n",
        "nome = input(\"Digite o seu nome: \")\n",
        "idade = input(\"Digite a sua idade: \")\n",
        "cidade = input(\"Digite a sua cidade: \")\n",
        "signo = input(\"Digite o seu signo: \")\n",
        "\n",
        "# Apresentação\n",
        "print(f\"Oi! Eu sou a {nome}, tenho {idade} anos, moro em {cidade} e sou do signo de {signo}.\")"
      ],
      "metadata": {
        "id": "K3HM42avBP_D",
        "outputId": "f4c9f993-2646-4cbd-e081-073ecd018561",
        "colab": {
          "base_uri": "https://localhost:8080/"
        }
      },
      "execution_count": 1,
      "outputs": [
        {
          "output_type": "stream",
          "name": "stdout",
          "text": [
            "Digite o seu nome: Carol\n",
            "Digite a sua idade: 32\n",
            "Digite a sua cidade: São Paulo\n",
            "Digite o seu signo: Capricórnio\n",
            "Oi! Eu sou a Carol, tenho 32 anos, moro em São Paulo e meu signo é Capricórnio.\n"
          ]
        }
      ]
    },
    {
      "cell_type": "markdown",
      "source": [
        "\n",
        "\n",
        "---\n",
        "\n"
      ],
      "metadata": {
        "id": "dgkbPq2JK7ES"
      }
    },
    {
      "cell_type": "markdown",
      "source": [
        "### B) **Qual o maior valor dessa lista de gastos?**\n",
        "\n"
      ],
      "metadata": {
        "id": "jQnXX8Ii348J"
      }
    },
    {
      "cell_type": "code",
      "source": [
        "gastos = [10.60, 11.99, 5.50, 10, 45.99, 7.50, 4.00]"
      ],
      "metadata": {
        "id": "8CeAhHTf9aYk"
      },
      "execution_count": 3,
      "outputs": []
    },
    {
      "cell_type": "code",
      "source": [
        "# O valor mais caro é: 45.99"
      ],
      "metadata": {
        "id": "EWRw9Zkn-RWL"
      },
      "execution_count": null,
      "outputs": []
    },
    {
      "cell_type": "code",
      "source": [
        "# Resposta aqui\n",
        "\n",
        "\n"
      ],
      "metadata": {
        "id": "muN_hCwu-dWp"
      },
      "execution_count": null,
      "outputs": []
    },
    {
      "cell_type": "code",
      "source": [
        "maior_valor = max(gastos)\n",
        "\n",
        "print(f\"O valor mais caro é: {maior_valor}\")"
      ],
      "metadata": {
        "id": "SA3QmomlDWHb",
        "outputId": "b4d5d618-dabf-4164-e812-1565d6c1faac",
        "colab": {
          "base_uri": "https://localhost:8080/"
        }
      },
      "execution_count": 5,
      "outputs": [
        {
          "output_type": "stream",
          "name": "stdout",
          "text": [
            "O valor mais caro é: 45.99\n"
          ]
        }
      ]
    },
    {
      "cell_type": "markdown",
      "source": [
        "\n",
        "\n",
        "---\n",
        "\n"
      ],
      "metadata": {
        "id": "skCyGhKG-gpv"
      }
    },
    {
      "cell_type": "markdown",
      "source": [
        "### C) **Qual a média dessa lista?**:\n",
        "\n"
      ],
      "metadata": {
        "id": "7-fmR1dU9Lmm"
      }
    },
    {
      "cell_type": "code",
      "source": [
        "numeros = [10,80,50,90,70]"
      ],
      "metadata": {
        "id": "_x74pbVn7t91"
      },
      "execution_count": 7,
      "outputs": []
    },
    {
      "cell_type": "code",
      "source": [
        "# A média dos números é: 60.0"
      ],
      "metadata": {
        "id": "QGJ9F4go8nmt"
      },
      "execution_count": null,
      "outputs": []
    },
    {
      "cell_type": "code",
      "source": [
        "# Resposta aqui\n",
        "\n"
      ],
      "metadata": {
        "id": "C8SOjNdB8Ptz"
      },
      "execution_count": null,
      "outputs": []
    },
    {
      "cell_type": "code",
      "source": [
        "media_valor = sum(numeros) / len(numeros)\n",
        "\n",
        "print(f\"A média dos números é: {media_valor:.2f}\")"
      ],
      "metadata": {
        "id": "ZRA8o7vHDvPU",
        "outputId": "bd331842-d7ba-4433-fef2-8b596c258489",
        "colab": {
          "base_uri": "https://localhost:8080/"
        }
      },
      "execution_count": 8,
      "outputs": [
        {
          "output_type": "stream",
          "name": "stdout",
          "text": [
            "A média dos números é: 60.00\n"
          ]
        }
      ]
    },
    {
      "cell_type": "markdown",
      "source": [
        "\n",
        "\n",
        "---\n",
        "\n"
      ],
      "metadata": {
        "id": "A5riB5veK95b"
      }
    },
    {
      "cell_type": "markdown",
      "source": [
        "### D) **Qual a média final dessas notas, qual a maior e qual a menor nota**"
      ],
      "metadata": {
        "id": "goAxWssZ_N5a"
      }
    },
    {
      "cell_type": "code",
      "source": [
        "notas = [10,7.8, 6, 8, 9]\n"
      ],
      "metadata": {
        "id": "_IY5S15p_YIR"
      },
      "execution_count": 9,
      "outputs": []
    },
    {
      "cell_type": "code",
      "source": [
        "# A média final é 8.16. A sua maior nota foi 10 e a menor nota foi 6!"
      ],
      "metadata": {
        "id": "Xa-J0VSI_6YZ"
      },
      "execution_count": null,
      "outputs": []
    },
    {
      "cell_type": "code",
      "source": [
        "# Resposta aqui\n",
        "\n"
      ],
      "metadata": {
        "id": "5FJ-Xsi1Evcz"
      },
      "execution_count": null,
      "outputs": []
    },
    {
      "cell_type": "code",
      "source": [
        "# Calculando a média\n",
        "media_final = sum(notas) / len(notas)\n",
        "\n",
        "# Encontrando a maior e a menor nota\n",
        "maior_nota = max(notas)\n",
        "menor_nota = min(notas)\n",
        "\n",
        "# Exibindo os resultados\n",
        "print(f\"A média final é {media_final:.2f}. A sua maior nota foi {maior_nota} e a menor nota foi {menor_nota}!\")"
      ],
      "metadata": {
        "id": "9tmgtBHCEpN2",
        "outputId": "bae22a9d-eb4b-4c2e-db76-bc6b61638ceb",
        "colab": {
          "base_uri": "https://localhost:8080/"
        }
      },
      "execution_count": 10,
      "outputs": [
        {
          "output_type": "stream",
          "name": "stdout",
          "text": [
            "A média final é 8.16. A sua maior nota foi 10 e a menor nota foi 6!\n"
          ]
        }
      ]
    },
    {
      "cell_type": "markdown",
      "source": [
        "\n",
        "\n",
        "---\n",
        "\n"
      ],
      "metadata": {
        "id": "ifwPeyZQK-2l"
      }
    },
    {
      "cell_type": "markdown",
      "source": [
        "### E) **Com as mesmas informações do exercício anterior, apresente se a aluna foi APROVADA ou REPROVADA**"
      ],
      "metadata": {
        "id": "p8L7DdPbApDN"
      }
    },
    {
      "cell_type": "markdown",
      "source": [
        "*  Se a média for igual ou superior a 6 apresentar a mensagem \"Parabéns, você foi APROVADA!\"\n",
        "*  Se a média for menor, apresentar \"Não foi dessa vez, infelizmente você foi REPROVADA!\""
      ],
      "metadata": {
        "id": "kb21A5Z1A7CU"
      }
    },
    {
      "cell_type": "code",
      "source": [
        "# Parabéns você foi aprovada!"
      ],
      "metadata": {
        "id": "InjCDLOZBZhC"
      },
      "execution_count": null,
      "outputs": []
    },
    {
      "cell_type": "code",
      "source": [
        "# Resposta aqui"
      ],
      "metadata": {
        "id": "g2nUuyoUalog"
      },
      "execution_count": null,
      "outputs": []
    },
    {
      "cell_type": "code",
      "source": [
        "# Verificando aprovação ou reprovação\n",
        "if media_final >= 6:\n",
        "    status = \"Parabéns, você foi APROVADA!\"\n",
        "else:\n",
        "    status = \"Não foi dessa vez, infelizmente você foi REPROVADA!\"\n",
        "\n",
        "# Resultado\n",
        "print(f\"A média final é {media_final:.2f}. A sua maior nota foi {maior_nota} e a menor nota foi {menor_nota}!\")\n",
        "\n",
        "print(status)"
      ],
      "metadata": {
        "id": "Y_blXJfvE89G",
        "outputId": "be394650-9c52-451d-ee4d-03d193fe7ac5",
        "colab": {
          "base_uri": "https://localhost:8080/"
        }
      },
      "execution_count": 12,
      "outputs": [
        {
          "output_type": "stream",
          "name": "stdout",
          "text": [
            "A média final é 8.16. A sua maior nota foi 10 e a menor nota foi 6!\n",
            "Parabéns, você foi APROVADA!\n"
          ]
        }
      ]
    },
    {
      "cell_type": "markdown",
      "source": [
        "\n",
        "\n",
        "---\n",
        "\n"
      ],
      "metadata": {
        "id": "X5Ya3MHRK_4N"
      }
    },
    {
      "cell_type": "markdown",
      "source": [
        "### F) **Desenvolva um programa que realize as quatro operações básicas (adição, subtração, multiplicação e divisão) entre dois números. A usuária deve escolher a operação e inserir os valores**"
      ],
      "metadata": {
        "id": "YT8vTnW2ENVL"
      }
    },
    {
      "cell_type": "code",
      "source": [
        "#Digite o primeiro número: 10\n",
        "#Digite o segundo número: 20\n",
        "#Digite a operação (+, -, *, /): +\n",
        "#Resultado: 30.0"
      ],
      "metadata": {
        "id": "gpmOjgseE4aD"
      },
      "execution_count": null,
      "outputs": []
    },
    {
      "cell_type": "code",
      "source": [
        "# Resposta aqui"
      ],
      "metadata": {
        "id": "iTu22D0VEinD"
      },
      "execution_count": null,
      "outputs": []
    },
    {
      "cell_type": "code",
      "source": [
        "# Solicita os dois números ao usuário\n",
        "num1 = float(input(\"Digite o primeiro número: \"))\n",
        "num2 = float(input(\"Digite o segundo número: \"))\n",
        "\n",
        "#Funções de operação:\n",
        "def adicao(x, y):\n",
        "    return x + y\n",
        "\n",
        "def subtracao(x, y):\n",
        "    return x - y\n",
        "\n",
        "def multiplicacao(x, y):\n",
        "    return x * y\n",
        "\n",
        "def divisao(x, y):\n",
        "    if y != 0:\n",
        "        return x / y\n",
        "    else:\n",
        "        return \"Erro! Divisão por zero não é permitida.\"\n",
        "\n",
        "def main():\n",
        "    print(\"Escolha a operação:\")\n",
        "    print(\"1. Adição\")\n",
        "    print(\"2. Subtração\")\n",
        "    print(\"3. Multiplicação\")\n",
        "    print(\"4. Divisão\")\n",
        "\n",
        "    operacao = input(\"Digite o número da operação desejada (1/2/3/4): \")\n",
        "\n",
        "    if operacao in ['1', '2', '3', '4']:\n",
        "\n",
        "        if operacao == '1':\n",
        "            resultado = adicao(num1, num2)\n",
        "            print(f\"O resultado de {num1} + {num2} é: {resultado}\")\n",
        "\n",
        "        elif operacao == '2':\n",
        "            resultado = subtracao(num1, num2)\n",
        "            print(f\"O resultado de {num1} - {num2} é: {resultado}\")\n",
        "\n",
        "        elif operacao == '3':\n",
        "            resultado = multiplicacao(num1, num2)\n",
        "            print(f\"O resultado de {num1} * {num2} é: {resultado}\")\n",
        "\n",
        "        elif operacao == '4':\n",
        "            resultado = divisao(num1, num2)\n",
        "            print(f\"O resultado de {num1} / {num2} é: {resultado}\")\n",
        "    else:\n",
        "        print(\"Operação inválida! Por favor, selecione uma opção válida.\")\n",
        "\n",
        "if __name__ == \"__main__\":\n",
        "    main()"
      ],
      "metadata": {
        "id": "DDBFw3YdGQG0",
        "outputId": "ab802506-5d0b-415c-b971-d721ccee6269",
        "colab": {
          "base_uri": "https://localhost:8080/"
        }
      },
      "execution_count": 14,
      "outputs": [
        {
          "output_type": "stream",
          "name": "stdout",
          "text": [
            "Digite o primeiro número: 2\n",
            "Digite o segundo número: 45\n",
            "Escolha a operação:\n",
            "1. Adição\n",
            "2. Subtração\n",
            "3. Multiplicação\n",
            "4. Divisão\n",
            "Digite o número da operação desejada (1/2/3/4): 3\n",
            "O resultado de 2.0 * 45.0 é: 90.0\n"
          ]
        }
      ]
    },
    {
      "cell_type": "markdown",
      "source": [
        "\n",
        "\n",
        "---\n",
        "\n"
      ],
      "metadata": {
        "id": "X0ZvZeNCLA04"
      }
    },
    {
      "cell_type": "markdown",
      "source": [
        "### G) **Faça um Programa que leia três números e mostre-os em ordem decrescente.**"
      ],
      "metadata": {
        "id": "vdf5rEiZF5KM"
      }
    },
    {
      "cell_type": "code",
      "source": [
        "# Resposta aqui"
      ],
      "metadata": {
        "id": "PMPrtPEOF7eE"
      },
      "execution_count": null,
      "outputs": []
    },
    {
      "cell_type": "code",
      "source": [
        "# Solicita os três números ao usuário\n",
        "num1 = float(input(\"Digite o primeiro número: \"))\n",
        "num2 = float(input(\"Digite o segundo número: \"))\n",
        "num3 = float(input(\"Digite o terceiro número: \"))\n",
        "\n",
        "# Coloca os números em uma lista\n",
        "numeros = [num1, num2, num3]\n",
        "\n",
        "# Ordena a lista em ordem decrescente\n",
        "numeros.sort(reverse=True)\n",
        "\n",
        "# Exibe os números em ordem decrescente\n",
        "print(\"Os números em ordem decrescente são:\")\n",
        "for numero in numeros:\n",
        "    print(numero)\n"
      ],
      "metadata": {
        "id": "1IgcNcvKHJ1e",
        "outputId": "80c3a8d2-9d0e-41f4-abf4-737024f4bd52",
        "colab": {
          "base_uri": "https://localhost:8080/"
        }
      },
      "execution_count": 15,
      "outputs": [
        {
          "output_type": "stream",
          "name": "stdout",
          "text": [
            "Digite o primeiro número: 3\n",
            "Digite o segundo número: 5\n",
            "Digite o terceiro número: 7\n",
            "Os números em ordem decrescente são:\n",
            "7.0\n",
            "5.0\n",
            "3.0\n"
          ]
        }
      ]
    },
    {
      "cell_type": "markdown",
      "source": [
        "\n",
        "\n",
        "---\n",
        "\n"
      ],
      "metadata": {
        "id": "lX9BdmxyLBtt"
      }
    },
    {
      "cell_type": "markdown",
      "source": [
        "### H) **Faça uma função que retorne o reverso de um número inteiro informado. Por exemplo: 153 -> 351**"
      ],
      "metadata": {
        "id": "p0A-lta0Gmcq"
      }
    },
    {
      "cell_type": "code",
      "source": [
        "# Resposta aqui"
      ],
      "metadata": {
        "id": "0Ppk5OneHom-"
      },
      "execution_count": null,
      "outputs": []
    },
    {
      "cell_type": "code",
      "source": [
        "def reverter_numero(num):\n",
        "    # Verifica se o número é negativo\n",
        "    negativo = num < 0\n",
        "    if negativo:\n",
        "        num = abs(num)\n",
        "\n",
        "    # Converte o número em string, reverte a string e converte de volta para inteiro\n",
        "    numero_revertido = int(str(num)[::-1])\n",
        "\n",
        "    # Se o número original era negativo, torna o resultado negativo\n",
        "    if negativo:\n",
        "        numero_revertido = -numero_revertido\n",
        "\n",
        "    return numero_revertido\n",
        "\n",
        "# Exemplo de uso\n",
        "numero = int(input(\"Digite um número inteiro: \"))\n",
        "resultado = reverter_numero(numero)\n",
        "print(f\"O reverso de {numero} é {resultado}.\")"
      ],
      "metadata": {
        "id": "naMQcSNzHeFJ",
        "outputId": "744b1214-fcbe-4d04-c114-1dd32ca2acd0",
        "colab": {
          "base_uri": "https://localhost:8080/"
        }
      },
      "execution_count": 16,
      "outputs": [
        {
          "output_type": "stream",
          "name": "stdout",
          "text": [
            "Digite um número inteiro: 345\n",
            "O reverso de 345 é 543.\n"
          ]
        }
      ]
    },
    {
      "cell_type": "markdown",
      "source": [
        "\n",
        "\n",
        "---\n",
        "\n"
      ],
      "metadata": {
        "id": "GWlXyhTlLCii"
      }
    },
    {
      "cell_type": "markdown",
      "source": [
        "### I) **Faça um programa que solicite o nome do usuário e imprima-o em formato de escada.**"
      ],
      "metadata": {
        "id": "4DKAX96gKJZv"
      }
    },
    {
      "cell_type": "code",
      "source": [
        "#Digite seu nome: amanda\n",
        "#a\n",
        "#am\n",
        "#ama\n",
        "#aman\n",
        "#amand\n",
        "#amanda"
      ],
      "metadata": {
        "id": "yRsRy144KKds"
      },
      "execution_count": null,
      "outputs": []
    },
    {
      "cell_type": "code",
      "source": [
        "# Resposta aqui"
      ],
      "metadata": {
        "id": "N2ohocU_KO08"
      },
      "execution_count": null,
      "outputs": []
    },
    {
      "cell_type": "code",
      "source": [
        "# Solicita o nome do usuário\n",
        "nome = input(\"Digite seu nome: \")\n",
        "\n",
        "# Imprime o nome em formato de escada\n",
        "for i in range(1, len(nome) + 1):\n",
        "    print(nome[:i])"
      ],
      "metadata": {
        "id": "8J-QRidYHppR",
        "outputId": "0a851cc5-f7f4-4d4c-a56b-cc094002c442",
        "colab": {
          "base_uri": "https://localhost:8080/"
        }
      },
      "execution_count": 17,
      "outputs": [
        {
          "output_type": "stream",
          "name": "stdout",
          "text": [
            "Digite seu nome: Carolyne\n",
            "C\n",
            "Ca\n",
            "Car\n",
            "Caro\n",
            "Carol\n",
            "Caroly\n",
            "Carolyn\n",
            "Carolyne\n"
          ]
        }
      ]
    }
  ]
}