{
  "nbformat": 4,
  "nbformat_minor": 0,
  "metadata": {
    "colab": {
      "provenance": [],
      "include_colab_link": true
    },
    "kernelspec": {
      "name": "python3",
      "display_name": "Python 3"
    },
    "language_info": {
      "name": "python"
    }
  },
  "cells": [
    {
      "cell_type": "markdown",
      "metadata": {
        "id": "view-in-github",
        "colab_type": "text"
      },
      "source": [
        "<a href=\"https://colab.research.google.com/github/CarolyneS14/Pretalab-Ciclo-11-Oficina-de-Sabado/blob/main/Exerc%C3%ADcio_Final_sabado.ipynb\" target=\"_parent\"><img src=\"https://colab.research.google.com/assets/colab-badge.svg\" alt=\"Open In Colab\"/></a>"
      ]
    },
    {
      "cell_type": "markdown",
      "source": [
        "# Contagem de Medalhas\n",
        "\n",
        "Crie um programa que receba o número de medalhas de ouro, prata e bronze de um país nas Olimpíadas e calcule o total de medalhas.\n",
        "Quando escrever 'sair', o programa deverá encerrar e mostrar na tela o ranking de medalhas no formato:"
      ],
      "metadata": {
        "id": "RQN1e5FZY6SZ"
      }
    },
    {
      "cell_type": "code",
      "source": [
        "#Ranking de medalhas:\n",
        "#Brasil: 7 medalhas\n",
        "#França: 6 medalhas\n",
        "#Argentina: 3 medalhas"
      ],
      "metadata": {
        "id": "gCq_KLHzZSzb"
      },
      "execution_count": null,
      "outputs": []
    },
    {
      "cell_type": "code",
      "execution_count": null,
      "metadata": {
        "id": "AJJhjxiPTd5s"
      },
      "outputs": [],
      "source": [
        "# Resposta aqui"
      ]
    },
    {
      "cell_type": "code",
      "source": [
        "def calcular_total_medalhas(ouro, prata, bronze):\n",
        "    return ouro + prata + bronze\n",
        "\n",
        "def exibir_ranking_medalhas(ranking):\n",
        "    print(\"\\n#Ranking de medalhas:\")\n",
        "    ranking_ordenado = sorted(ranking.items(), key=lambda x: x[1], reverse=True)\n",
        "    for i, (pais, total_medalhas) in enumerate(ranking_ordenado, start=1):\n",
        "        print(f\"#{i} {pais}: {total_medalhas} medalhas\")\n",
        "\n",
        "def main():\n",
        "    ranking = {}\n",
        "\n",
        "    while True:\n",
        "        pais = input(\"Digite o nome do país (ou 'sair' para encerrar): \").strip()\n",
        "        if pais.lower() == 'sair':\n",
        "            break\n",
        "\n",
        "        try:\n",
        "            ouro = int(input(f\"Digite o número de medalhas de ouro para {pais}: \"))\n",
        "            prata = int(input(f\"Digite o número de medalhas de prata para {pais}: \"))\n",
        "            bronze = int(input(f\"Digite o número de medalhas de bronze para {pais}: \"))\n",
        "        except ValueError:\n",
        "            print(\"Por favor, insira um número válido.\")\n",
        "            continue\n",
        "\n",
        "        total_medalhas = calcular_total_medalhas(ouro, prata, bronze)\n",
        "        ranking[pais] = total_medalhas\n",
        "\n",
        "    exibir_ranking_medalhas(ranking)\n",
        "\n",
        "if __name__ == \"__main__\":\n",
        "    main()"
      ],
      "metadata": {
        "id": "mYj_ALfu-CiO",
        "outputId": "0f816b66-8448-4975-8e73-adff16f92087",
        "colab": {
          "base_uri": "https://localhost:8080/"
        }
      },
      "execution_count": 2,
      "outputs": [
        {
          "output_type": "stream",
          "name": "stdout",
          "text": [
            "Digite o nome do país (ou 'sair' para encerrar): Brasil\n",
            "Digite o número de medalhas de ouro para Brasil: 23\n",
            "Digite o número de medalhas de prata para Brasil: 7\n",
            "Digite o número de medalhas de bronze para Brasil: 9\n",
            "Digite o nome do país (ou 'sair' para encerrar): França\n",
            "Digite o número de medalhas de ouro para França: 7\n",
            "Digite o número de medalhas de prata para França: 9\n",
            "Digite o número de medalhas de bronze para França: 8\n",
            "Digite o nome do país (ou 'sair' para encerrar): EUA\n",
            "Digite o número de medalhas de ouro para EUA: 21\n",
            "Digite o número de medalhas de prata para EUA: 9\n",
            "Digite o número de medalhas de bronze para EUA: 8\n",
            "Digite o nome do país (ou 'sair' para encerrar): sair\n",
            "\n",
            "#Ranking de medalhas:\n",
            "#1 Brasil: 39 medalhas\n",
            "#2 EUA: 38 medalhas\n",
            "#3 França: 24 medalhas\n"
          ]
        }
      ]
    }
  ]
}